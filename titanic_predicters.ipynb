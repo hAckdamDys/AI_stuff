{
 "cells": [
  {
   "cell_type": "code",
   "execution_count": 69,
   "metadata": {
    "collapsed": false
   },
   "outputs": [
    {
     "name": "stderr",
     "output_type": "stream",
     "text": [
      "/home/adam/anaconda2/lib/python2.7/site-packages/ipykernel/__main__.py:29: SettingWithCopyWarning: \n",
      "A value is trying to be set on a copy of a slice from a DataFrame\n",
      "\n",
      "See the caveats in the documentation: http://pandas.pydata.org/pandas-docs/stable/indexing.html#indexing-view-versus-copy\n"
     ]
    }
   ],
   "source": [
    "# %load myfirstforest\n",
    "\"\"\" Writing my first randomforest code.\n",
    "Author : AstroDave\n",
    "Date : 23rd September 2012\n",
    "Revised: 15 April 2014\n",
    "please see packages.python.org/milk/randomforests.html for more\n",
    "\n",
    "\"\"\" \n",
    "import pandas as pd\n",
    "import numpy as np\n",
    "import csv as csv\n",
    "\n",
    "# Data cleanup\n",
    "# TRAIN DATA\n",
    "train_df = pd.read_csv('train.csv', header=0)        # Load the train file into a dataframe\n",
    "\n",
    "# I need to convert all strings to integer classifiers.\n",
    "# I need to fill in the missing values of the data and make it complete.\n",
    "\n",
    "# female = 0, Male = 1\n",
    "train_df['Gender'] = train_df['Sex'].map( {'female': 0, 'male': 1} ).astype(int)\n",
    "\n",
    "# Embarked from 'C', 'Q', 'S'\n",
    "# Note this is not ideal: in translating categories to numbers, Port \"2\" is not 2 times greater than Port \"1\", etc.\n",
    "\n",
    "# All missing Embarked -> just make them embark from most common place\n",
    "if len(train_df.Embarked[ train_df.Embarked.isnull() ]) > 0:\n",
    "    train_df.Embarked[ train_df.Embarked.isnull() ] = train_df.Embarked.dropna().mode().values\n",
    "#dataframe.isnull() zwraca rzędy(elementy) wszystkich które mają nulla,\n",
    "#dataframe.dropna() zwraca dataframe'a tylko że bez rzędów które mają NaN\n",
    "#dataframe.mode() zwraca najczęstsze wartosci\n",
    "#czyli powyższa linijka wszystkie nulle zamienia w najczestrza wartość\n",
    "\n",
    "\n",
    "Ports = list(enumerate(np.unique(train_df['Embarked'])))    # determine all values of Embarked,\n",
    "#train_df['Embarked']=train_df.Embarked\n",
    "#print(list(enumerate(np.unique(train_df.Embarked)))) = [(0, 'C'), (1, 'Q'), (2, 'S')]\n",
    "Ports_dict = { name : i for i, name in Ports }              # set up a dictionary in the form  Ports : index\n",
    "train_df.Embarked = train_df.Embarked.map( lambda x: Ports_dict[x]).astype(int)     # Convert all Embark strings to int\n",
    "# print(train_df.Embarked) teraz embarked zmienilismy na wartosci int 0,1,2\n",
    "\n",
    "\n",
    "# All the ages with no data -> make the median of all Ages\n",
    "median_age = train_df['Age'].dropna().median()\n",
    "if len(train_df.Age[ train_df.Age.isnull() ]) > 0:\n",
    "    train_df.loc[ (train_df.Age.isnull()), 'Age'] = median_age\n",
    "\n",
    "# Remove the Name column, Cabin, Ticket, and Sex (since I copied and filled it to Gender)\n",
    "train_df = train_df.drop(['Name', 'Sex', 'Ticket', 'Cabin', 'PassengerId'], axis=1) "
   ]
  },
  {
   "cell_type": "code",
   "execution_count": 8,
   "metadata": {
    "collapsed": false
   },
   "outputs": [],
   "source": [
    "#używane dane train data i test data\n",
    "\n",
    "train_data = train_df.values[:400]\n",
    "test_data = train_df.values[400:,1:]\n",
    "goodout=train_df.values[400:,0].astype(int)\n",
    "from random import random as rand"
   ]
  },
  {
   "cell_type": "code",
   "execution_count": 68,
   "metadata": {
    "collapsed": false
   },
   "outputs": [
    {
     "name": "stdout",
     "output_type": "stream",
     "text": [
      "rState =  2346358643\n",
      "Random Forest:\n",
      "n_estimators=10:\n",
      "Accuracy =  79.0224032587 %\n",
      "n_estimators=50:\n",
      "Accuracy =  80.2443991853 %\n",
      "n_estimators=100:\n",
      "Accuracy =  80.4480651731 %\n",
      "n_estimators=200:\n",
      "Accuracy =  80.4480651731 %\n",
      "max_depth=7, instead 5:\n",
      "Accuracy =  81.466395112 %\n",
      "max_depth=9\n",
      "Accuracy =  81.8737270876 %\n",
      "n_est=200,m_dep=7,bootstrap=False\n",
      "Accuracy =  81.0590631365 %\n"
     ]
    }
   ],
   "source": [
    "from sklearn.ensemble import RandomForestClassifier\n",
    "rState=int(rand()*4294967295)\n",
    "print 'rState = ',rState\n",
    "#jakis Random Forest:\n",
    "print 'Random Forest:'\n",
    "#zwiekszanie max_depth zwieksza accuracy ale dla 100 jest slabo w okolicach 5 jest dobrze\n",
    "print 'n_estimators=10:'\n",
    "forest = RandomForestClassifier(n_estimators=10,random_state=rState,max_depth=5)\n",
    "#forest.fit(inputy,outputy)\n",
    "forest = forest.fit( train_data[0::,1::], train_data[0::,0] )\n",
    "#predict(inputy)\n",
    "output = forest.predict(test_data).astype(int)\n",
    "summ=0\n",
    "for i in range(int(len(output))):\n",
    "    if output[i]==goodout[i]:\n",
    "        summ+=1\n",
    "accurac=100*float(summ/float(len(output)))\n",
    "print \"Accuracy = \", accurac, \"%\"\n",
    "\n",
    "print 'n_estimators=50:'\n",
    "forest = RandomForestClassifier(n_estimators=50,random_state=rState,max_depth=5)\n",
    "forest = forest.fit( train_data[0::,1::], train_data[0::,0] )\n",
    "output = forest.predict(test_data).astype(int)\n",
    "summ=0\n",
    "for i in range(int(len(output))):\n",
    "    if output[i]==goodout[i]:\n",
    "        summ+=1\n",
    "accurac=100*float(summ/float(len(output)))\n",
    "print \"Accuracy = \", accurac, \"%\"\n",
    "\n",
    "print 'n_estimators=100:'\n",
    "forest = RandomForestClassifier(n_estimators=100,random_state=rState,max_depth=5)\n",
    "forest = forest.fit( train_data[0::,1::], train_data[0::,0] )\n",
    "output = forest.predict(test_data).astype(int)\n",
    "summ=0\n",
    "for i in range(int(len(output))):\n",
    "    if output[i]==goodout[i]:\n",
    "        summ+=1\n",
    "accurac=100*float(summ/float(len(output)))\n",
    "print \"Accuracy = \", accurac, \"%\"\n",
    "\n",
    "print 'n_estimators=200:'\n",
    "forest = RandomForestClassifier(n_estimators=200,random_state=rState,max_depth=5)\n",
    "forest = forest.fit( train_data[0::,1::], train_data[0::,0] )\n",
    "output = forest.predict(test_data).astype(int)\n",
    "summ=0\n",
    "for i in range(int(len(output))):\n",
    "    if output[i]==goodout[i]:\n",
    "        summ+=1\n",
    "accurac=100*float(summ/float(len(output)))\n",
    "print \"Accuracy = \", accurac, \"%\"\n",
    "\n",
    "print 'max_depth=7, instead 5:'\n",
    "forest = RandomForestClassifier(n_estimators=200,random_state=rState,max_depth=7)\n",
    "forest = forest.fit( train_data[0::,1::], train_data[0::,0] )\n",
    "output = forest.predict(test_data).astype(int)\n",
    "summ=0\n",
    "for i in range(int(len(output))):\n",
    "    if output[i]==goodout[i]:\n",
    "        summ+=1\n",
    "accurac=100*float(summ/float(len(output)))\n",
    "print \"Accuracy = \", accurac, \"%\"\n",
    "\n",
    "print 'max_depth=9'\n",
    "forest = RandomForestClassifier(n_estimators=200,random_state=rState,max_depth=9)\n",
    "forest = forest.fit( train_data[0::,1::], train_data[0::,0] )\n",
    "output = forest.predict(test_data).astype(int)\n",
    "summ=0\n",
    "for i in range(int(len(output))):\n",
    "    if output[i]==goodout[i]:\n",
    "        summ+=1\n",
    "accurac=100*float(summ/float(len(output)))\n",
    "print \"Accuracy = \", accurac, \"%\"\n",
    "\n",
    "print 'n_est=200,m_dep=7,bootstrap=False'\n",
    "forest = RandomForestClassifier(n_estimators=200,random_state=rState,max_depth=7,bootstrap=False)\n",
    "forest = forest.fit( train_data[0::,1::], train_data[0::,0] )\n",
    "output = forest.predict(test_data).astype(int)\n",
    "summ=0\n",
    "for i in range(int(len(output))):\n",
    "    if output[i]==goodout[i]:\n",
    "        summ+=1\n",
    "accurac=100*float(summ/float(len(output)))\n",
    "print \"Accuracy = \", accurac, \"%\""
   ]
  },
  {
   "cell_type": "code",
   "execution_count": null,
   "metadata": {
    "collapsed": false
   },
   "outputs": [],
   "source": []
  },
  {
   "cell_type": "code",
   "execution_count": null,
   "metadata": {
    "collapsed": true
   },
   "outputs": [],
   "source": []
  }
 ],
 "metadata": {
  "anaconda-cloud": {},
  "kernelspec": {
   "display_name": "Python [default]",
   "language": "python",
   "name": "python2"
  },
  "language_info": {
   "codemirror_mode": {
    "name": "ipython",
    "version": 2
   },
   "file_extension": ".py",
   "mimetype": "text/x-python",
   "name": "python",
   "nbconvert_exporter": "python",
   "pygments_lexer": "ipython2",
   "version": "2.7.12"
  }
 },
 "nbformat": 4,
 "nbformat_minor": 1
}
